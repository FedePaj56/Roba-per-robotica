{
 "cells": [
  {
   "cell_type": "markdown",
   "id": "4cf85233-d1ce-4e0f-8d96-df638ccc8ab1",
   "metadata": {},
   "source": [
    "# Blinking led"
   ]
  },
  {
   "cell_type": "markdown",
   "id": "9804aba1-a851-4f5f-8d09-84399504849f",
   "metadata": {},
   "source": [
    "![Blinking-Led](Blinking-Led.png)"
   ]
  },
  {
   "cell_type": "code",
   "execution_count": null,
   "id": "4d1581e9-fa71-4313-ab7e-6e2b8b011bd9",
   "metadata": {},
   "outputs": [],
   "source": [
    "ledstate = False\n",
    "print(\"Dammi il PIN dove vuoi attaccare il LED\")\n",
    "lED = int(input())\n",
    "print(\"true per outpout, false per input\")\n",
    "pinmode = (input().lower == 'true')\n",
    "while 1 == 1:\n",
    "    ledstate = True\n",
    "    print(ledstate)\n",
    "    ledstate = False\n",
    "    print(ledstate)"
   ]
  },
  {
   "cell_type": "markdown",
   "id": "dc7c6de4-ec4d-4c27-bccc-f49a2c7873e2",
   "metadata": {},
   "source": [
    "# Calcolatore di aree"
   ]
  },
  {
   "cell_type": "markdown",
   "id": "c0acd9a4-3e09-4bc8-ad72-03c5c45dcc75",
   "metadata": {},
   "source": [
    "![Calcolatore di aree](Calcolatore-di-aree.png)"
   ]
  },
  {
   "cell_type": "code",
   "execution_count": null,
   "id": "91c4a06e-eed4-49d3-9adf-bbec80dd6b01",
   "metadata": {},
   "outputs": [],
   "source": [
    "print(\"scrivi qualcosa e prima o poi capirai a cosa servo\")\n",
    "scelta = input()\n",
    "if scelta == \"q\":\n",
    "    print(\"Bravo, hai cliccato così tanti tasti a caso che ora ti do l'area di un quadrato, però dammi le misure che sennò come dovrei fare\")\n",
    "    i = float(input())\n",
    "    while i <= 0:\n",
    "        print(\"Ma quando rompipalle devi essere per metterebbe i lati negativi, metti qualcosa di posititivo\")\n",
    "        i = float(input())\n",
    "    a = i ** 2\n",
    "else:\n",
    "    if scelta == \"t\":\n",
    "        print(\"Bravo pirla, ha sfasciato così tanto i tasti della tastiera che ora ti do l'area di un triangolo, però dammi le misure della base\")\n",
    "        b = float(input())\n",
    "        print(\"We testina dammi l'altezza\")\n",
    "        h = float(input())\n",
    "        a = b ** h / 2\n",
    "    else:\n",
    "        print(\"Hai cliccato quello sbagliago, suca\")\n",
    "        a = -9223372036854775808\n",
    "print(\"Rompipalle ecco la tua area:\")\n",
    "print(a)"
   ]
  },
  {
   "cell_type": "markdown",
   "id": "9880f89d-ae77-4167-afb1-853b2ebe2e11",
   "metadata": {},
   "source": [
    "# Calcolatore fattoriale"
   ]
  },
  {
   "cell_type": "markdown",
   "id": "0760f612-bf93-4dee-9f4a-fa17300f2188",
   "metadata": {},
   "source": [
    "![Calcolatore fattoriale](Calcolatore-fattoriale.png)"
   ]
  },
  {
   "cell_type": "code",
   "execution_count": null,
   "id": "c801cef6-5f0b-4572-9619-ed9fe1aebb51",
   "metadata": {},
   "outputs": [],
   "source": [
    "risultato = 1\n",
    "print(\"Dammi il numero del quale vuoi il fattoriale (non so cosa sia però dammi comunque un numero)\")\n",
    "numero = int(input())\n",
    "for i in range(1, numero + 1, 1):\n",
    "    risultato = risultato * i\n",
    "print(\"è uscito questo:\")\n",
    "print(risultato)"
   ]
  },
  {
   "cell_type": "markdown",
   "id": "87661568-a4fa-4292-8722-dbf27b8b9234",
   "metadata": {},
   "source": [
    "# Numero"
   ]
  },
  {
   "cell_type": "markdown",
   "id": "f1329635-8ab3-412e-bd1c-f0536de6f7b4",
   "metadata": {},
   "source": [
    "![Numero](Numero.png)"
   ]
  },
  {
   "cell_type": "code",
   "execution_count": null,
   "id": "c62db02d-bd01-4305-8e5f-1c275770d2b5",
   "metadata": {},
   "outputs": [],
   "source": [
    "print(\"Dammi uno dei quei tasti che stanno sopra le lettere, non mi ricordo come si chiamano\")\n",
    "numero = int(input())\n",
    "if numero > 0:\n",
    "    print(\"Quel simbolo strano la penso sia più grande di zero\")\n",
    "else:\n",
    "    if numero == 0:\n",
    "        print(\"Ah finalmente un numero che conosco, lo zero\")\n",
    "    else:\n",
    "        print(\"Mi sa che quello strano geroglifico è più piccolo di zero, forse\")\n",
    "if fabs(numero) % 2 == 0:\n",
    "    print(\"e dovrebbe essere pari, teoricamente\")\n",
    "else:\n",
    "    print(\"Mi sa anche che è dispari\")"
   ]
  },
  {
   "cell_type": "markdown",
   "id": "4fc7f679-d670-441a-b4d3-5e9a0540a9f0",
   "metadata": {},
   "source": [
    "# Numero2"
   ]
  },
  {
   "cell_type": "markdown",
   "id": "006ce897-8037-4e60-a647-f826799311f7",
   "metadata": {},
   "source": [
    "![Numero2](Numero2.png)"
   ]
  },
  {
   "cell_type": "code",
   "execution_count": null,
   "id": "8e1509a7-9d3b-430e-8b58-ecd2486e95a5",
   "metadata": {},
   "outputs": [],
   "source": [
    "lista = [0] * (3)\n",
    "\n",
    "print(\"Dammi tre di quei simboli strani che hai sulla tastiera\")\n",
    "for i in range(0, 2 + 1, 1):\n",
    "    lista[i] = float(input())\n",
    "    if lista[i] % 2 == 0:\n",
    "        print(\"Penso sia pari\")\n",
    "    else:\n",
    "        print(\"Probabilmente dispari\")"
   ]
  },
  {
   "cell_type": "markdown",
   "id": "d5b947ef-92be-41fb-a091-172842813356",
   "metadata": {},
   "source": [
    "# Numero3"
   ]
  },
  {
   "cell_type": "markdown",
   "id": "1cb7e379-473f-4845-a1fc-c9ff1fe78399",
   "metadata": {},
   "source": [
    "![Numero3](Numero3.png)"
   ]
  },
  {
   "cell_type": "code",
   "execution_count": null,
   "id": "24319c23-46fd-4788-8468-9f258f929fd3",
   "metadata": {},
   "outputs": [],
   "source": [
    "lista = [0] * (3)"
   ]
  },
  {
   "cell_type": "markdown",
   "id": "f6af2461-c305-4092-b7db-74b52546231a",
   "metadata": {},
   "source": [
    "# Prodotto scalare"
   ]
  },
  {
   "cell_type": "markdown",
   "id": "6c7aa32b-0e2e-48fb-a242-11ac5415b703",
   "metadata": {},
   "source": [
    "![Prodotto scalare](Prodotto-scalare.png)"
   ]
  },
  {
   "cell_type": "code",
   "execution_count": null,
   "id": "a1072472-3aed-4bda-8586-cf7105ec9337",
   "metadata": {},
   "outputs": [],
   "source": [
    "lista1 = [0] * (3)\n",
    "lista2 = [0] * (3)\n",
    "\n",
    "risultato = 0\n",
    "print(\"Dammi le componenti dei due vettori\")\n",
    "for i in range(0, 2 + 1, 1):\n",
    "    lista1[i] = int(input())\n",
    "    lista2[i] = int(input())\n",
    "for i in range(0, 2 + 1, 1):\n",
    "    risultato = lista1[i] * lista2[i]\n",
    "print(\"Il risultato è:\")\n",
    "print(risultato)"
   ]
  },
  {
   "cell_type": "markdown",
   "id": "d8d00569-6f09-4ec2-9799-83a2e5cb1c39",
   "metadata": {},
   "source": [
    "# Quadrato"
   ]
  },
  {
   "cell_type": "markdown",
   "id": "b0bd2aa4-17d7-4ff0-90ff-3af4b5411655",
   "metadata": {},
   "source": [
    "![Quadrato](Quadrato.png)"
   ]
  },
  {
   "cell_type": "code",
   "execution_count": null,
   "id": "f632cb9e-869e-4853-9613-83d56f243b06",
   "metadata": {},
   "outputs": [],
   "source": [
    "lista = [0] * (3)\n",
    "quadrati = [0] * (3)\n",
    "\n",
    "print(\"Calcolo il quadrato dei geroglifici che ci sono nella tua lista\")\n",
    "for i in range(0, 2 + 1, 1):\n",
    "    lista[i] = float(input())\n",
    "for i in range(0, 2 + 1, 1):\n",
    "    quadrati[i] = lista[i] ** 2\n",
    "    print(quadrati[i])"
   ]
  },
  {
   "cell_type": "markdown",
   "id": "7d3b9be9-d0d8-4c57-a256-8aec3e62030f",
   "metadata": {},
   "source": [
    "# sasso carta forbice"
   ]
  },
  {
   "cell_type": "markdown",
   "id": "9a08b5a5-9246-47f5-8845-d77191fbdae6",
   "metadata": {},
   "source": [
    "![sasso carta forbice](sasso-carta-forbice-p2.png)"
   ]
  },
  {
   "cell_type": "code",
   "execution_count": null,
   "id": "b9b57f36-44c6-4f72-a2ab-17f47b345a33",
   "metadata": {},
   "outputs": [],
   "source": [
    "import random\n",
    "random.seed()   #Prepare random number generator\n",
    "\n",
    "print(\"ciao, scegli sasso carta o forbice\")\n",
    "scelta = input()\n",
    "while scelta == \"carta\" and scelta != \"forbice\" and scelta != \"sasso\":\n",
    "    print(\"kalewi\")\n",
    "    scelta = input()\n",
    "while scelta != \"esci\":\n",
    "    numero = int(random.random() * 3)\n",
    "    if numero == 0:\n",
    "        computer = \"carta\"\n",
    "    else:\n",
    "        if numero == 1:\n",
    "            computer = \"forbice\"\n",
    "        else:\n",
    "            computer = \"sasso\"\n",
    "    if scelta == \"carta\" and computer == \"carta\" or scelta == \"forbice\" and computer == \"forbice\" or scelta == \"sasso\" and computer == \"forbice\":\n",
    "        print(\"computer\")\n",
    "        print(\"Hai vinto!!!\")\n",
    "    else:\n",
    "        if scelta == \"carta\" and computer == \"carta\" or scelta == \"forbice\" and computer == \"forbice\" or scelta == \"sasso\" and computer == \"forbice\":\n",
    "            print(\"computer\")\n",
    "            print(\"pareggio!!!\")\n",
    "        else:\n",
    "            print(\"computer\")\n",
    "            print(\"hai vinto!!\")\n",
    "    scelta = input()\n",
    "    while scelta == \"carta\" and scelta != \"forbice\" and scelta != \"sasso\":\n",
    "        print(\"kalewi\")\n",
    "        scelta = input()"
   ]
  },
  {
   "cell_type": "markdown",
   "id": "5d256593-6b78-4a68-9dfa-1459e23549bf",
   "metadata": {},
   "source": [
    "# Vettoriale di una lista di numeri"
   ]
  },
  {
   "cell_type": "markdown",
   "id": "f2aaec58-c090-4f61-a75b-cee5a9ad94ce",
   "metadata": {},
   "source": [
    "![Vettoriale di una lista di numeri](Vettoriale-di-una-lista-di-numeri.png)"
   ]
  },
  {
   "cell_type": "code",
   "execution_count": null,
   "id": "f8e9b7f7-4630-46ba-86c5-67951c62c296",
   "metadata": {},
   "outputs": [],
   "source": [
    "lista = [0] * (3)\n",
    "fattoriali = [0] * (3)\n",
    "\n",
    "print(\"dammi tre valori che poi ti cago il fattoriale\")\n",
    "for i in range(0, 2 + 1, 1):\n",
    "    lista[i] = int(input())\n",
    "for i in range(0, 2 + 1, 1):\n",
    "    risultato = 1\n",
    "    for K in range(1, lista[i] + 1, 1):\n",
    "        risultato = risultato * K\n",
    "        fattoriali[i] = risultato\n",
    "    print(\"Cago\")\n",
    "    print(fattoriali[i])"
   ]
  }
 ],
 "metadata": {
  "kernelspec": {
   "display_name": "Python 3 (ipykernel)",
   "language": "python",
   "name": "python3"
  },
  "language_info": {
   "codemirror_mode": {
    "name": "ipython",
    "version": 3
   },
   "file_extension": ".py",
   "mimetype": "text/x-python",
   "name": "python",
   "nbconvert_exporter": "python",
   "pygments_lexer": "ipython3",
   "version": "3.12.7"
  }
 },
 "nbformat": 4,
 "nbformat_minor": 5
}
